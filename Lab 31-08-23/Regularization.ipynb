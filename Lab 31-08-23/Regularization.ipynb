{
  "cells": [
    {
      "cell_type": "code",
      "execution_count": 1,
      "id": "0272cb83",
      "metadata": {
        "id": "0272cb83"
      },
      "outputs": [],
      "source": [
        "from sklearn.datasets import load_diabetes\n",
        "from sklearn.linear_model import LinearRegression,Ridge,Lasso,ElasticNet\n",
        "from sklearn.model_selection import train_test_split\n",
        "from sklearn.metrics import r2_score\n",
        "from sklearn.metrics import r2_score,mean_squared_error\n",
        "import numpy as np\n",
        "import matplotlib.pyplot as plt"
      ]
    },
    {
      "cell_type": "code",
      "execution_count": 2,
      "id": "304a2196",
      "metadata": {
        "colab": {
          "base_uri": "https://localhost:8080/"
        },
        "id": "304a2196",
        "outputId": "e724d04e-c868-467e-cf03-c3068435202a"
      },
      "outputs": [
        {
          "output_type": "execute_result",
          "data": {
            "text/plain": [
              "(442, 10)"
            ]
          },
          "metadata": {},
          "execution_count": 2
        }
      ],
      "source": [
        "df = load_diabetes()\n",
        "X = df.data\n",
        "y= df.target\n",
        "X.shape"
      ]
    },
    {
      "cell_type": "code",
      "execution_count": 3,
      "id": "0a1a8bd1",
      "metadata": {
        "id": "0a1a8bd1"
      },
      "outputs": [],
      "source": [
        "X_train,X_test,y_train,y_test = train_test_split(X,y,test_size=0.2,random_state=2)"
      ]
    },
    {
      "cell_type": "markdown",
      "id": "e1523e21",
      "metadata": {
        "id": "e1523e21"
      },
      "source": [
        "# Linear Regression"
      ]
    },
    {
      "cell_type": "code",
      "execution_count": 4,
      "id": "3b32f3f7",
      "metadata": {
        "id": "3b32f3f7"
      },
      "outputs": [],
      "source": [
        "# Linear Regression\n",
        "reg = LinearRegression()\n",
        "reg.fit(X_train,y_train)\n",
        "y_pred = reg.predict(X_test)"
      ]
    },
    {
      "cell_type": "code",
      "execution_count": 5,
      "id": "58f7d5a3",
      "metadata": {
        "colab": {
          "base_uri": "https://localhost:8080/"
        },
        "id": "58f7d5a3",
        "outputId": "3a678ddc-dd4e-4474-8248-761e37b060f2"
      },
      "outputs": [
        {
          "output_type": "stream",
          "name": "stdout",
          "text": [
            "[  -9.15865318 -205.45432163  516.69374454  340.61999905 -895.5520019\n",
            "  561.22067904  153.89310954  126.73139688  861.12700152   52.42112238]\n",
            "151.88331005254167\n",
            "R2 score 0.4399338661568968\n",
            "RMSE 55.627840795469155\n"
          ]
        }
      ],
      "source": [
        "print(reg.coef_)\n",
        "print(reg.intercept_)\n",
        "\n",
        "print(\"R2 score\",r2_score(y_test,y_pred))\n",
        "print(\"RMSE\",np.sqrt(mean_squared_error(y_test,y_pred)))"
      ]
    },
    {
      "cell_type": "markdown",
      "id": "4dd185f8",
      "metadata": {
        "id": "4dd185f8"
      },
      "source": [
        "# Ridge (L2)"
      ]
    },
    {
      "cell_type": "code",
      "execution_count": 6,
      "id": "7f9e5ae8",
      "metadata": {
        "id": "7f9e5ae8"
      },
      "outputs": [],
      "source": [
        "# Ridge\n",
        "reg = Ridge(alpha=0.1)\n",
        "reg.fit(X_train,y_train)\n",
        "y_pred = reg.predict(X_test)\n"
      ]
    },
    {
      "cell_type": "code",
      "execution_count": 7,
      "id": "dea9df20",
      "metadata": {
        "colab": {
          "base_uri": "https://localhost:8080/"
        },
        "id": "dea9df20",
        "outputId": "b158a09d-7937-41be-a951-44964f5448e2"
      },
      "outputs": [
        {
          "output_type": "stream",
          "name": "stdout",
          "text": [
            "[   6.64373321 -172.23747375  485.52958514  314.67584612  -72.94020918\n",
            "  -80.58868817 -174.46352722   83.61470987  484.36531622   73.58509056]\n",
            "151.92546856900984\n",
            "R2 score 0.45199494197195456\n",
            "RMSE 55.02560551161431\n"
          ]
        }
      ],
      "source": [
        "print(reg.coef_)\n",
        "print(reg.intercept_)\n",
        "\n",
        "print(\"R2 score\",r2_score(y_test,y_pred))\n",
        "print(\"RMSE\",np.sqrt(mean_squared_error(y_test,y_pred)))"
      ]
    },
    {
      "cell_type": "markdown",
      "id": "696d841c",
      "metadata": {
        "id": "696d841c"
      },
      "source": [
        "# Lasso (L1)"
      ]
    },
    {
      "cell_type": "code",
      "execution_count": 8,
      "id": "48b5bf28",
      "metadata": {
        "id": "48b5bf28"
      },
      "outputs": [],
      "source": [
        "# Lasso\n",
        "reg = Lasso(alpha=0.01)\n",
        "reg.fit(X_train,y_train)\n",
        "y_pred = reg.predict(X_test)"
      ]
    },
    {
      "cell_type": "code",
      "execution_count": 9,
      "id": "767ba31f",
      "metadata": {
        "colab": {
          "base_uri": "https://localhost:8080/"
        },
        "id": "767ba31f",
        "outputId": "9c81f6eb-a8d0-4bec-fba9-62910bcc6e5c"
      },
      "outputs": [
        {
          "output_type": "stream",
          "name": "stdout",
          "text": [
            "[  -1.35972089 -192.93718018  526.35651446  332.6411011  -430.22697505\n",
            "  191.29547987  -44.03491271   68.98898658  688.39602778   47.94061621]\n",
            "151.87686450031345\n",
            "R2 score 0.44111855963110613\n",
            "RMSE 55.568975580213966\n"
          ]
        }
      ],
      "source": [
        "print(reg.coef_)\n",
        "print(reg.intercept_)\n",
        "\n",
        "print(\"R2 score\",r2_score(y_test,y_pred))\n",
        "print(\"RMSE\",np.sqrt(mean_squared_error(y_test,y_pred)))"
      ]
    },
    {
      "cell_type": "markdown",
      "id": "b964b92f",
      "metadata": {
        "id": "b964b92f"
      },
      "source": [
        "# ElasticNet"
      ]
    },
    {
      "cell_type": "code",
      "execution_count": 10,
      "id": "8dbea4dd",
      "metadata": {
        "colab": {
          "base_uri": "https://localhost:8080/"
        },
        "id": "8dbea4dd",
        "outputId": "f1da9d7c-0ddb-4960-979a-a8631bff2232"
      },
      "outputs": [
        {
          "output_type": "execute_result",
          "data": {
            "text/plain": [
              "0.4531474541554823"
            ]
          },
          "metadata": {},
          "execution_count": 10
        }
      ],
      "source": [
        "# ElasticNet\n",
        "reg = ElasticNet(alpha=0.005,l1_ratio=0.9)\n",
        "reg.fit(X_train,y_train)\n",
        "y_pred = reg.predict(X_test)\n",
        "r2_score(y_test,y_pred)"
      ]
    },
    {
      "cell_type": "code",
      "execution_count": 11,
      "id": "f74e6ff8",
      "metadata": {
        "colab": {
          "base_uri": "https://localhost:8080/"
        },
        "id": "f74e6ff8",
        "outputId": "381845db-01e6-457e-eba9-1170f5fd69b9"
      },
      "outputs": [
        {
          "output_type": "stream",
          "name": "stdout",
          "text": [
            "[  12.94146674 -150.63182716  454.70979985  297.41151019  -40.62996867\n",
            "  -82.61311124 -175.79746592   88.72693272  438.79775539   81.84968777]\n",
            "151.92650042509422\n",
            "R2 score 0.4531474541554823\n",
            "RMSE 54.96771274361177\n"
          ]
        }
      ],
      "source": [
        "print(reg.coef_)\n",
        "print(reg.intercept_)\n",
        "\n",
        "print(\"R2 score\",r2_score(y_test,y_pred))\n",
        "print(\"RMSE\",np.sqrt(mean_squared_error(y_test,y_pred)))"
      ]
    },
    {
      "cell_type": "markdown",
      "id": "8c8a88e3",
      "metadata": {
        "id": "8c8a88e3"
      },
      "source": [
        "# Polynomial Ridge Regression"
      ]
    },
    {
      "cell_type": "code",
      "execution_count": 12,
      "id": "b875cbf0",
      "metadata": {
        "id": "b875cbf0"
      },
      "outputs": [],
      "source": [
        "X = 6 * np.random.rand(200, 1) - 3\n",
        "y = 0.8 * X**2 + 0.9 * X + 2 + np.random.randn(200, 1)"
      ]
    },
    {
      "cell_type": "code",
      "execution_count": 13,
      "id": "5142deea",
      "metadata": {
        "colab": {
          "base_uri": "https://localhost:8080/",
          "height": 433
        },
        "id": "5142deea",
        "outputId": "a341b827-709e-4513-89ea-2fcd52c96d34"
      },
      "outputs": [
        {
          "output_type": "display_data",
          "data": {
            "text/plain": [
              "<Figure size 640x480 with 1 Axes>"
            ],
            "image/png": "[encoded data removed]"
          },
          "metadata": {}
        }
      ],
      "source": [
        "plt.scatter(X, y)\n",
        "plt.show()"
      ]
    },
    {
      "cell_type": "code",
      "execution_count": 14,
      "id": "93ffbbb8",
      "metadata": {
        "id": "93ffbbb8"
      },
      "outputs": [],
      "source": [
        "X_train,X_test,y_train,y_test = train_test_split(X,y,test_size=0.2,random_state=2)"
      ]
    },
    {
      "cell_type": "code",
      "execution_count": 15,
      "id": "d87b2e55",
      "metadata": {
        "id": "d87b2e55"
      },
      "outputs": [],
      "source": [
        "#polynomial transformation\n",
        "\n",
        "from sklearn.preprocessing import PolynomialFeatures\n",
        "poly = PolynomialFeatures(degree=16,include_bias=True) #hyperparameter is degree\n",
        "\n",
        "X_train_trans = poly.fit_transform(X_train)\n",
        "X_test_trans = poly.transform(X_test)"
      ]
    },
    {
      "cell_type": "code",
      "execution_count": 16,
      "id": "bcddf051",
      "metadata": {
        "id": "bcddf051"
      },
      "outputs": [],
      "source": [
        "# Applying Polynomial Linear Regression\n",
        "lr1 = Ridge(alpha=200)\n",
        "lr1.fit(X_train_trans,y_train)\n",
        "y_pred = lr1.predict(X_test_trans)\n"
      ]
    },
    {
      "cell_type": "code",
      "execution_count": 17,
      "id": "6d560e85",
      "metadata": {
        "colab": {
          "base_uri": "https://localhost:8080/"
        },
        "id": "6d560e85",
        "outputId": "24d02ef0-57d2-423a-f3a5-80b9ae206f69"
      },
      "outputs": [
        {
          "output_type": "stream",
          "name": "stdout",
          "text": [
            "R2 score 0.8384787907915554\n",
            "RMSE 1.1151243485291427\n"
          ]
        }
      ],
      "source": [
        "print(\"R2 score\",r2_score(y_test,y_pred))\n",
        "print(\"RMSE\",np.sqrt(mean_squared_error(y_test,y_pred)))"
      ]
    },
    {
      "cell_type": "code",
      "execution_count": 18,
      "id": "0baface5",
      "metadata": {
        "id": "0baface5"
      },
      "outputs": [],
      "source": [
        "lr2 = Ridge(alpha=2)\n",
        "lr2.fit(X_train_trans,y_train)\n",
        "y_pred = lr2.predict(X_test_trans)"
      ]
    },
    {
      "cell_type": "code",
      "execution_count": 19,
      "id": "9bd3aa13",
      "metadata": {
        "colab": {
          "base_uri": "https://localhost:8080/"
        },
        "id": "9bd3aa13",
        "outputId": "326ab7ac-2529-4abd-ec6e-3a81786613a7"
      },
      "outputs": [
        {
          "output_type": "stream",
          "name": "stdout",
          "text": [
            "R2 score 0.8446081676540821\n",
            "RMSE 1.0937614537742986\n"
          ]
        }
      ],
      "source": [
        "print(\"R2 score\",r2_score(y_test,y_pred))\n",
        "print(\"RMSE\",np.sqrt(mean_squared_error(y_test,y_pred)))"
      ]
    },
    {
      "cell_type": "code",
      "execution_count": 20,
      "id": "4dc31f4b",
      "metadata": {
        "id": "4dc31f4b"
      },
      "outputs": [],
      "source": [
        "X_new=np.linspace(-3, 3, 200).reshape(200, 1)\n",
        "X_new_poly = poly.transform(X_new)\n",
        "y_new1 = lr1.predict(X_new_poly)\n",
        "y_new2 = lr2.predict(X_new_poly)"
      ]
    },
    {
      "cell_type": "code",
      "execution_count": 21,
      "id": "2d667d28",
      "metadata": {
        "colab": {
          "base_uri": "https://localhost:8080/",
          "height": 452
        },
        "id": "2d667d28",
        "outputId": "fc23a8c2-b528-420a-f0c3-814df4e87f74"
      },
      "outputs": [
        {
          "output_type": "display_data",
          "data": {
            "text/plain": [
              "<Figure size 640x480 with 1 Axes>"
            ],
            "image/png": "[encoded data removed]"
          },
          "metadata": {}
        }
      ],
      "source": [
        "plt.plot(X_new, y_new1, \"r-\", linewidth=2, label=\"Ridge 200\")\n",
        "plt.plot(X_new, y_new2, \"g-\", linewidth=2, label=\"Ridge 2\")\n",
        "plt.plot(X_train, y_train, \"b.\",label='Training points')\n",
        "plt.plot(X_test, y_test, \"g.\",label='Testing points')\n",
        "plt.xlabel(\"X\")\n",
        "plt.ylabel(\"y\")\n",
        "plt.legend()\n",
        "plt.show()"
      ]
    },
    {
      "cell_type": "code",
      "execution_count": 21,
      "id": "2aa66d8c",
      "metadata": {
        "id": "2aa66d8c"
      },
      "outputs": [],
      "source": []
    }
  ],
  "metadata": {
    "kernelspec": {
      "display_name": "Python 3 (ipykernel)",
      "language": "python",
      "name": "python3"
    },
    "language_info": {
      "codemirror_mode": {
        "name": "ipython",
        "version": 3
      },
      "file_extension": ".py",
      "mimetype": "text/x-python",
      "name": "python",
      "nbconvert_exporter": "python",
      "pygments_lexer": "ipython3",
      "version": "3.9.13"
    },
    "colab": {
      "provenance": []
    }
  },
  "nbformat": 4,
  "nbformat_minor": 5
}